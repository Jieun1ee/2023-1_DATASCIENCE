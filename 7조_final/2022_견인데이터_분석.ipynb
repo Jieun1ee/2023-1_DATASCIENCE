{
 "cells": [
  {
   "cell_type": "code",
   "execution_count": null,
   "metadata": {
    "colab": {
     "base_uri": "https://localhost:8080/"
    },
    "id": "qeX_kJdAjDxz",
    "outputId": "a5150b13-ca6a-422a-f227-bfc2419abada"
   },
   "outputs": [
    {
     "name": "stdout",
     "output_type": "stream",
     "text": [
      "   번호         신고일  구정보                     주소                  유형         조치일\n",
      "0   1  2021-07-15  동작구   서울특별시 동작구 상도동 215-45      점자블록, 엘리베이터 입구  2021-07-15\n",
      "1   2  2021-07-15  동작구   서울특별시 동작구 상도동 172-28               보도 중앙  2021-07-15\n",
      "2   3  2021-07-15  동작구    서울특별시 동작구 대방동 356-2       버스정류장, 택시 승강장  2021-07-15\n",
      "3   4  2021-07-15  동작구    서울특별시 동작구 대방동 354-1       버스정류장, 택시 승강장  2021-07-15\n",
      "4   5  2021-07-15  동작구  서울특별시 동작구 신대방동 460-30  보도와 차도가 구분된 도로의 차도  2021-07-15\n"
     ]
    }
   ],
   "source": [
    "import pandas as pd\n",
    "import matplotlib.pyplot as plt\n",
    "\n",
    "# CSV 파일 불러오기 (인코딩 설정)\n",
    "df = pd.read_csv('서울특별시_전동킥보드_견인_현황_20220731.csv', encoding='euc-kr')\n",
    "\n",
    "# 데이터 확인\n",
    "print(df.head())\n"
   ]
  },
  {
   "cell_type": "code",
   "execution_count": null,
   "metadata": {
    "colab": {
     "base_uri": "https://localhost:8080/"
    },
    "id": "UC5j-eZWrptX",
    "outputId": "0de69d51-d34e-4584-ce7a-705b61ff1cb1"
   },
   "outputs": [
    {
     "name": "stdout",
     "output_type": "stream",
     "text": [
      "Selecting previously unselected package fonts-nanum-extra.\n",
      "(Reading database ... 122518 files and directories currently installed.)\n",
      "Preparing to unpack .../fonts-nanum-extra_20180306-3_all.deb ...\n",
      "Unpacking fonts-nanum-extra (20180306-3) ...\n",
      "Selecting previously unselected package fonts-nanum.\n",
      "Preparing to unpack .../fonts-nanum_20180306-3_all.deb ...\n",
      "Unpacking fonts-nanum (20180306-3) ...\n",
      "Selecting previously unselected package fonts-nanum-coding.\n",
      "Preparing to unpack .../fonts-nanum-coding_2.5-2_all.deb ...\n",
      "Unpacking fonts-nanum-coding (2.5-2) ...\n",
      "Selecting previously unselected package fonts-nanum-eco.\n",
      "Preparing to unpack .../fonts-nanum-eco_1.000-7_all.deb ...\n",
      "Unpacking fonts-nanum-eco (1.000-7) ...\n",
      "Setting up fonts-nanum-extra (20180306-3) ...\n",
      "Setting up fonts-nanum (20180306-3) ...\n",
      "Setting up fonts-nanum-coding (2.5-2) ...\n",
      "Setting up fonts-nanum-eco (1.000-7) ...\n",
      "Processing triggers for fontconfig (2.13.1-2ubuntu3) ...\n"
     ]
    }
   ],
   "source": [
    "!apt-get update -qq\n",
    "!apt-get install fonts-nanum* -qq\n"
   ]
  },
  {
   "cell_type": "code",
   "execution_count": 2,
   "metadata": {
    "id": "LnLqspFWrrgR"
   },
   "outputs": [],
   "source": [
    "import matplotlib.pyplot as plt\n",
    "\n",
    "plt.rcParams['font.family'] = 'NanumGothic'\n"
   ]
  },
  {
   "cell_type": "code",
   "execution_count": 3,
   "metadata": {
    "id": "q5jVMEyCE8oI"
   },
   "outputs": [],
   "source": [
    "plt.rc('font', family = 'Malgun Gothic')"
   ]
  },
  {
   "cell_type": "code",
   "execution_count": null,
   "metadata": {
    "colab": {
     "base_uri": "https://localhost:8080/"
    },
    "id": "N1H5QzSkiMJi",
    "outputId": "adc5c5c2-bb53-4350-91db-a505ab7d5eca"
   },
   "outputs": [
    {
     "name": "stdout",
     "output_type": "stream",
     "text": [
      "0         상도동\n",
      "1         상도동\n",
      "2         대방동\n",
      "3         대방동\n",
      "4        신대방동\n",
      "         ... \n",
      "60600     사당동\n",
      "60601     봉천동\n",
      "60602     사당동\n",
      "60603     사당동\n",
      "60604     면목동\n",
      "Name: 동, Length: 60605, dtype: object\n"
     ]
    }
   ],
   "source": [
    "# 주소 칼럼에서 동 추출\n",
    "df['동'] = df['주소'].str.split().str[-2]\n",
    "\n",
    "# 동 추출 결과 확인\n",
    "print(df['동'])"
   ]
  },
  {
   "cell_type": "code",
   "execution_count": null,
   "metadata": {
    "colab": {
     "base_uri": "https://localhost:8080/"
    },
    "id": "YvZCx889kckv",
    "outputId": "5d3b33a2-c449-4e4e-9f7c-dd5ff2a9178a"
   },
   "outputs": [
    {
     "name": "stdout",
     "output_type": "stream",
     "text": [
      "        동  불법주차 개수\n",
      "0     봉천동     2698\n",
      "1   성수동2가     2318\n",
      "2     서초동     2302\n",
      "3    여의도동     2031\n",
      "4     서교동     1798\n",
      "5     사당동     1374\n",
      "6     문정동     1334\n",
      "7     가락동     1275\n",
      "8     구로동     1119\n",
      "9     동교동     1039\n",
      "10    대치동     1021\n",
      "11  성수동1가     1016\n",
      "12    장안동     1002\n",
      "13    신림동      975\n",
      "14    상도동      785\n",
      "15    삼성동      731\n",
      "16    역삼동      719\n",
      "17    신길동      717\n",
      "18    방이동      704\n",
      "19    자양동      701\n",
      "20     목동      684\n",
      "21    잠실동      681\n",
      "22    송파동      675\n",
      "23    면목동      652\n",
      "24    양재동      610\n",
      "25    오금동      588\n",
      "26    합정동      578\n",
      "27    화양동      557\n",
      "28    망원동      537\n",
      "29    화곡동      524\n",
      "30    마곡동      524\n"
     ]
    }
   ],
   "source": [
    "# '동'별로 불법주차 개수 계산\n",
    "dong_counts = df['동'].value_counts().reset_index()\n",
    "dong_counts.columns = ['동', '불법주차 개수']\n",
    "\n",
    "# '불법주차 개수'를 기준으로 내림차순 정렬\n",
    "sorted_dong_counts = dong_counts.sort_values('불법주차 개수', ascending=False)\n",
    "\n",
    "# 500개 이상인 동 필터링\n",
    "filtered_dong_counts = sorted_dong_counts[sorted_dong_counts['불법주차 개수'] >= 500]\n",
    "\n",
    "#\n",
    "print(filtered_dong_counts)"
   ]
  },
  {
   "cell_type": "code",
   "execution_count": null,
   "metadata": {
    "colab": {
     "base_uri": "https://localhost:8080/",
     "height": 1000
    },
    "id": "c9I6oJQYlqG-",
    "outputId": "b44a401e-6440-47d6-e8b1-faa367ca0682"
   },
   "outputs": [
    {
     "name": "stderr",
     "output_type": "stream",
     "text": [
      "WARNING:matplotlib.font_manager:findfont: Font family 'NanumGothic' not found.\n",
      "WARNING:matplotlib.font_manager:findfont: Font family 'NanumGothic' not found.\n",
      "WARNING:matplotlib.font_manager:findfont: Font family 'NanumGothic' not found.\n",
      "WARNING:matplotlib.font_manager:findfont: Font family 'NanumGothic' not found.\n",
      "WARNING:matplotlib.font_manager:findfont: Font family 'NanumGothic' not found.\n",
      "WARNING:matplotlib.font_manager:findfont: Font family 'NanumGothic' not found.\n",
      "WARNING:matplotlib.font_manager:findfont: Font family 'NanumGothic' not found.\n",
      "WARNING:matplotlib.font_manager:findfont: Font family 'NanumGothic' not found.\n",
      "WARNING:matplotlib.font_manager:findfont: Font family 'NanumGothic' not found.\n",
      "WARNING:matplotlib.font_manager:findfont: Font family 'NanumGothic' not found.\n",
      "WARNING:matplotlib.font_manager:findfont: Font family 'NanumGothic' not found.\n",
      "WARNING:matplotlib.font_manager:findfont: Font family 'NanumGothic' not found.\n",
      "WARNING:matplotlib.font_manager:findfont: Font family 'NanumGothic' not found.\n",
      "WARNING:matplotlib.font_manager:findfont: Font family 'NanumGothic' not found.\n",
      "WARNING:matplotlib.font_manager:findfont: Font family 'NanumGothic' not found.\n",
      "WARNING:matplotlib.font_manager:findfont: Font family 'NanumGothic' not found.\n",
      "/usr/local/lib/python3.10/dist-packages/IPython/core/pylabtools.py:151: UserWarning: Glyph 49324 (\\N{HANGUL SYLLABLE SA}) missing from current font.\n",
      "  fig.canvas.print_figure(bytes_io, **kw)\n",
      "/usr/local/lib/python3.10/dist-packages/IPython/core/pylabtools.py:151: UserWarning: Glyph 45817 (\\N{HANGUL SYLLABLE DANG}) missing from current font.\n",
      "  fig.canvas.print_figure(bytes_io, **kw)\n",
      "WARNING:matplotlib.font_manager:findfont: Font family 'NanumGothic' not found.\n",
      "/usr/local/lib/python3.10/dist-packages/IPython/core/pylabtools.py:151: UserWarning: Glyph 47928 (\\N{HANGUL SYLLABLE MUN}) missing from current font.\n",
      "  fig.canvas.print_figure(bytes_io, **kw)\n",
      "/usr/local/lib/python3.10/dist-packages/IPython/core/pylabtools.py:151: UserWarning: Glyph 51221 (\\N{HANGUL SYLLABLE JEONG}) missing from current font.\n",
      "  fig.canvas.print_figure(bytes_io, **kw)\n",
      "WARNING:matplotlib.font_manager:findfont: Font family 'NanumGothic' not found.\n",
      "/usr/local/lib/python3.10/dist-packages/IPython/core/pylabtools.py:151: UserWarning: Glyph 46973 (\\N{HANGUL SYLLABLE RAG}) missing from current font.\n",
      "  fig.canvas.print_figure(bytes_io, **kw)\n",
      "WARNING:matplotlib.font_manager:findfont: Font family 'NanumGothic' not found.\n",
      "/usr/local/lib/python3.10/dist-packages/IPython/core/pylabtools.py:151: UserWarning: Glyph 44396 (\\N{HANGUL SYLLABLE GU}) missing from current font.\n",
      "  fig.canvas.print_figure(bytes_io, **kw)\n",
      "/usr/local/lib/python3.10/dist-packages/IPython/core/pylabtools.py:151: UserWarning: Glyph 47196 (\\N{HANGUL SYLLABLE RO}) missing from current font.\n",
      "  fig.canvas.print_figure(bytes_io, **kw)\n",
      "WARNING:matplotlib.font_manager:findfont: Font family 'NanumGothic' not found.\n",
      "WARNING:matplotlib.font_manager:findfont: Font family 'NanumGothic' not found.\n",
      "WARNING:matplotlib.font_manager:findfont: Font family 'NanumGothic' not found.\n",
      "WARNING:matplotlib.font_manager:findfont: Font family 'NanumGothic' not found.\n",
      "/usr/local/lib/python3.10/dist-packages/IPython/core/pylabtools.py:151: UserWarning: Glyph 51109 (\\N{HANGUL SYLLABLE JANG}) missing from current font.\n",
      "  fig.canvas.print_figure(bytes_io, **kw)\n",
      "/usr/local/lib/python3.10/dist-packages/IPython/core/pylabtools.py:151: UserWarning: Glyph 50504 (\\N{HANGUL SYLLABLE AN}) missing from current font.\n",
      "  fig.canvas.print_figure(bytes_io, **kw)\n",
      "WARNING:matplotlib.font_manager:findfont: Font family 'NanumGothic' not found.\n",
      "/usr/local/lib/python3.10/dist-packages/IPython/core/pylabtools.py:151: UserWarning: Glyph 47548 (\\N{HANGUL SYLLABLE RIM}) missing from current font.\n",
      "  fig.canvas.print_figure(bytes_io, **kw)\n",
      "WARNING:matplotlib.font_manager:findfont: Font family 'NanumGothic' not found.\n",
      "WARNING:matplotlib.font_manager:findfont: Font family 'NanumGothic' not found.\n",
      "WARNING:matplotlib.font_manager:findfont: Font family 'NanumGothic' not found.\n",
      "WARNING:matplotlib.font_manager:findfont: Font family 'NanumGothic' not found.\n",
      "/usr/local/lib/python3.10/dist-packages/IPython/core/pylabtools.py:151: UserWarning: Glyph 44600 (\\N{HANGUL SYLLABLE GIL}) missing from current font.\n",
      "  fig.canvas.print_figure(bytes_io, **kw)\n",
      "WARNING:matplotlib.font_manager:findfont: Font family 'NanumGothic' not found.\n",
      "/usr/local/lib/python3.10/dist-packages/IPython/core/pylabtools.py:151: UserWarning: Glyph 48169 (\\N{HANGUL SYLLABLE BANG}) missing from current font.\n",
      "  fig.canvas.print_figure(bytes_io, **kw)\n",
      "WARNING:matplotlib.font_manager:findfont: Font family 'NanumGothic' not found.\n",
      "WARNING:matplotlib.font_manager:findfont: Font family 'NanumGothic' not found.\n",
      "/usr/local/lib/python3.10/dist-packages/IPython/core/pylabtools.py:151: UserWarning: Glyph 47785 (\\N{HANGUL SYLLABLE MOG}) missing from current font.\n",
      "  fig.canvas.print_figure(bytes_io, **kw)\n",
      "WARNING:matplotlib.font_manager:findfont: Font family 'NanumGothic' not found.\n",
      "/usr/local/lib/python3.10/dist-packages/IPython/core/pylabtools.py:151: UserWarning: Glyph 51104 (\\N{HANGUL SYLLABLE JAM}) missing from current font.\n",
      "  fig.canvas.print_figure(bytes_io, **kw)\n",
      "/usr/local/lib/python3.10/dist-packages/IPython/core/pylabtools.py:151: UserWarning: Glyph 49892 (\\N{HANGUL SYLLABLE SIL}) missing from current font.\n",
      "  fig.canvas.print_figure(bytes_io, **kw)\n",
      "WARNING:matplotlib.font_manager:findfont: Font family 'NanumGothic' not found.\n",
      "/usr/local/lib/python3.10/dist-packages/IPython/core/pylabtools.py:151: UserWarning: Glyph 49569 (\\N{HANGUL SYLLABLE SONG}) missing from current font.\n",
      "  fig.canvas.print_figure(bytes_io, **kw)\n",
      "/usr/local/lib/python3.10/dist-packages/IPython/core/pylabtools.py:151: UserWarning: Glyph 54028 (\\N{HANGUL SYLLABLE PA}) missing from current font.\n",
      "  fig.canvas.print_figure(bytes_io, **kw)\n",
      "WARNING:matplotlib.font_manager:findfont: Font family 'NanumGothic' not found.\n",
      "/usr/local/lib/python3.10/dist-packages/IPython/core/pylabtools.py:151: UserWarning: Glyph 47732 (\\N{HANGUL SYLLABLE MYEON}) missing from current font.\n",
      "  fig.canvas.print_figure(bytes_io, **kw)\n",
      "WARNING:matplotlib.font_manager:findfont: Font family 'NanumGothic' not found.\n",
      "/usr/local/lib/python3.10/dist-packages/IPython/core/pylabtools.py:151: UserWarning: Glyph 51116 (\\N{HANGUL SYLLABLE JAE}) missing from current font.\n",
      "  fig.canvas.print_figure(bytes_io, **kw)\n",
      "WARNING:matplotlib.font_manager:findfont: Font family 'NanumGothic' not found.\n",
      "/usr/local/lib/python3.10/dist-packages/IPython/core/pylabtools.py:151: UserWarning: Glyph 50724 (\\N{HANGUL SYLLABLE O}) missing from current font.\n",
      "  fig.canvas.print_figure(bytes_io, **kw)\n",
      "/usr/local/lib/python3.10/dist-packages/IPython/core/pylabtools.py:151: UserWarning: Glyph 44552 (\\N{HANGUL SYLLABLE GEUM}) missing from current font.\n",
      "  fig.canvas.print_figure(bytes_io, **kw)\n",
      "WARNING:matplotlib.font_manager:findfont: Font family 'NanumGothic' not found.\n",
      "/usr/local/lib/python3.10/dist-packages/IPython/core/pylabtools.py:151: UserWarning: Glyph 54633 (\\N{HANGUL SYLLABLE HAB}) missing from current font.\n",
      "  fig.canvas.print_figure(bytes_io, **kw)\n",
      "WARNING:matplotlib.font_manager:findfont: Font family 'NanumGothic' not found.\n",
      "WARNING:matplotlib.font_manager:findfont: Font family 'NanumGothic' not found.\n",
      "/usr/local/lib/python3.10/dist-packages/IPython/core/pylabtools.py:151: UserWarning: Glyph 47581 (\\N{HANGUL SYLLABLE MANG}) missing from current font.\n",
      "  fig.canvas.print_figure(bytes_io, **kw)\n",
      "/usr/local/lib/python3.10/dist-packages/IPython/core/pylabtools.py:151: UserWarning: Glyph 50896 (\\N{HANGUL SYLLABLE WEON}) missing from current font.\n",
      "  fig.canvas.print_figure(bytes_io, **kw)\n",
      "WARNING:matplotlib.font_manager:findfont: Font family 'NanumGothic' not found.\n",
      "/usr/local/lib/python3.10/dist-packages/IPython/core/pylabtools.py:151: UserWarning: Glyph 44257 (\\N{HANGUL SYLLABLE GOG}) missing from current font.\n",
      "  fig.canvas.print_figure(bytes_io, **kw)\n",
      "WARNING:matplotlib.font_manager:findfont: Font family 'NanumGothic' not found.\n",
      "/usr/local/lib/python3.10/dist-packages/IPython/core/pylabtools.py:151: UserWarning: Glyph 47560 (\\N{HANGUL SYLLABLE MA}) missing from current font.\n",
      "  fig.canvas.print_figure(bytes_io, **kw)\n",
      "WARNING:matplotlib.font_manager:findfont: Font family 'NanumGothic' not found.\n",
      "WARNING:matplotlib.font_manager:findfont: Font family 'NanumGothic' not found.\n",
      "WARNING:matplotlib.font_manager:findfont: Font family 'NanumGothic' not found.\n",
      "WARNING:matplotlib.font_manager:findfont: Font family 'NanumGothic' not found.\n",
      "WARNING:matplotlib.font_manager:findfont: Font family 'NanumGothic' not found.\n",
      "WARNING:matplotlib.font_manager:findfont: Font family 'NanumGothic' not found.\n",
      "WARNING:matplotlib.font_manager:findfont: Font family 'NanumGothic' not found.\n",
      "WARNING:matplotlib.font_manager:findfont: Font family 'NanumGothic' not found.\n",
      "WARNING:matplotlib.font_manager:findfont: Font family 'NanumGothic' not found.\n",
      "WARNING:matplotlib.font_manager:findfont: Font family 'NanumGothic' not found.\n",
      "WARNING:matplotlib.font_manager:findfont: Font family 'NanumGothic' not found.\n",
      "WARNING:matplotlib.font_manager:findfont: Font family 'NanumGothic' not found.\n",
      "WARNING:matplotlib.font_manager:findfont: Font family 'NanumGothic' not found.\n",
      "WARNING:matplotlib.font_manager:findfont: Font family 'NanumGothic' not found.\n",
      "WARNING:matplotlib.font_manager:findfont: Font family 'NanumGothic' not found.\n",
      "WARNING:matplotlib.font_manager:findfont: Font family 'NanumGothic' not found.\n",
      "WARNING:matplotlib.font_manager:findfont: Font family 'NanumGothic' not found.\n",
      "WARNING:matplotlib.font_manager:findfont: Font family 'NanumGothic' not found.\n",
      "WARNING:matplotlib.font_manager:findfont: Font family 'NanumGothic' not found.\n",
      "WARNING:matplotlib.font_manager:findfont: Font family 'NanumGothic' not found.\n",
      "WARNING:matplotlib.font_manager:findfont: Font family 'NanumGothic' not found.\n",
      "WARNING:matplotlib.font_manager:findfont: Font family 'NanumGothic' not found.\n",
      "WARNING:matplotlib.font_manager:findfont: Font family 'NanumGothic' not found.\n",
      "WARNING:matplotlib.font_manager:findfont: Font family 'NanumGothic' not found.\n",
      "WARNING:matplotlib.font_manager:findfont: Font family 'NanumGothic' not found.\n",
      "WARNING:matplotlib.font_manager:findfont: Font family 'NanumGothic' not found.\n",
      "WARNING:matplotlib.font_manager:findfont: Font family 'NanumGothic' not found.\n",
      "WARNING:matplotlib.font_manager:findfont: Font family 'NanumGothic' not found.\n",
      "WARNING:matplotlib.font_manager:findfont: Font family 'NanumGothic' not found.\n",
      "WARNING:matplotlib.font_manager:findfont: Font family 'NanumGothic' not found.\n",
      "WARNING:matplotlib.font_manager:findfont: Font family 'NanumGothic' not found.\n",
      "WARNING:matplotlib.font_manager:findfont: Font family 'NanumGothic' not found.\n",
      "WARNING:matplotlib.font_manager:findfont: Font family 'NanumGothic' not found.\n",
      "WARNING:matplotlib.font_manager:findfont: Font family 'NanumGothic' not found.\n",
      "WARNING:matplotlib.font_manager:findfont: Font family 'NanumGothic' not found.\n",
      "WARNING:matplotlib.font_manager:findfont: Font family 'NanumGothic' not found.\n",
      "WARNING:matplotlib.font_manager:findfont: Font family 'NanumGothic' not found.\n",
      "WARNING:matplotlib.font_manager:findfont: Font family 'NanumGothic' not found.\n",
      "WARNING:matplotlib.font_manager:findfont: Font family 'NanumGothic' not found.\n",
      "WARNING:matplotlib.font_manager:findfont: Font family 'NanumGothic' not found.\n",
      "WARNING:matplotlib.font_manager:findfont: Font family 'NanumGothic' not found.\n",
      "WARNING:matplotlib.font_manager:findfont: Font family 'NanumGothic' not found.\n",
      "WARNING:matplotlib.font_manager:findfont: Font family 'NanumGothic' not found.\n",
      "WARNING:matplotlib.font_manager:findfont: Font family 'NanumGothic' not found.\n",
      "WARNING:matplotlib.font_manager:findfont: Font family 'NanumGothic' not found.\n",
      "WARNING:matplotlib.font_manager:findfont: Font family 'NanumGothic' not found.\n",
      "WARNING:matplotlib.font_manager:findfont: Font family 'NanumGothic' not found.\n",
      "WARNING:matplotlib.font_manager:findfont: Font family 'NanumGothic' not found.\n",
      "WARNING:matplotlib.font_manager:findfont: Font family 'NanumGothic' not found.\n",
      "WARNING:matplotlib.font_manager:findfont: Font family 'NanumGothic' not found.\n",
      "WARNING:matplotlib.font_manager:findfont: Font family 'NanumGothic' not found.\n",
      "WARNING:matplotlib.font_manager:findfont: Font family 'NanumGothic' not found.\n",
      "WARNING:matplotlib.font_manager:findfont: Font family 'NanumGothic' not found.\n",
      "WARNING:matplotlib.font_manager:findfont: Font family 'NanumGothic' not found.\n",
      "WARNING:matplotlib.font_manager:findfont: Font family 'NanumGothic' not found.\n",
      "WARNING:matplotlib.font_manager:findfont: Font family 'NanumGothic' not found.\n",
      "WARNING:matplotlib.font_manager:findfont: Font family 'NanumGothic' not found.\n",
      "WARNING:matplotlib.font_manager:findfont: Font family 'NanumGothic' not found.\n",
      "WARNING:matplotlib.font_manager:findfont: Font family 'NanumGothic' not found.\n",
      "WARNING:matplotlib.font_manager:findfont: Font family 'NanumGothic' not found.\n",
      "WARNING:matplotlib.font_manager:findfont: Font family 'NanumGothic' not found.\n",
      "WARNING:matplotlib.font_manager:findfont: Font family 'NanumGothic' not found.\n",
      "WARNING:matplotlib.font_manager:findfont: Font family 'NanumGothic' not found.\n",
      "WARNING:matplotlib.font_manager:findfont: Font family 'NanumGothic' not found.\n",
      "WARNING:matplotlib.font_manager:findfont: Font family 'NanumGothic' not found.\n",
      "WARNING:matplotlib.font_manager:findfont: Font family 'NanumGothic' not found.\n",
      "WARNING:matplotlib.font_manager:findfont: Font family 'NanumGothic' not found.\n",
      "WARNING:matplotlib.font_manager:findfont: Font family 'NanumGothic' not found.\n",
      "WARNING:matplotlib.font_manager:findfont: Font family 'NanumGothic' not found.\n",
      "WARNING:matplotlib.font_manager:findfont: Font family 'NanumGothic' not found.\n",
      "WARNING:matplotlib.font_manager:findfont: Font family 'NanumGothic' not found.\n",
      "WARNING:matplotlib.font_manager:findfont: Font family 'NanumGothic' not found.\n",
      "WARNING:matplotlib.font_manager:findfont: Font family 'NanumGothic' not found.\n",
      "WARNING:matplotlib.font_manager:findfont: Font family 'NanumGothic' not found.\n",
      "WARNING:matplotlib.font_manager:findfont: Font family 'NanumGothic' not found.\n",
      "WARNING:matplotlib.font_manager:findfont: Font family 'NanumGothic' not found.\n",
      "WARNING:matplotlib.font_manager:findfont: Font family 'NanumGothic' not found.\n",
      "WARNING:matplotlib.font_manager:findfont: Font family 'NanumGothic' not found.\n",
      "WARNING:matplotlib.font_manager:findfont: Font family 'NanumGothic' not found.\n",
      "WARNING:matplotlib.font_manager:findfont: Font family 'NanumGothic' not found.\n",
      "WARNING:matplotlib.font_manager:findfont: Font family 'NanumGothic' not found.\n",
      "WARNING:matplotlib.font_manager:findfont: Font family 'NanumGothic' not found.\n",
      "WARNING:matplotlib.font_manager:findfont: Font family 'NanumGothic' not found.\n"
     ]
    },
    {
     "data": {
      "image/png": "[encoded data removed]",
      "text/plain": [
       "<Figure size 1000x600 with 1 Axes>"
      ]
     },
     "metadata": {},
     "output_type": "display_data"
    }
   ],
   "source": [
    "# 500개 이상인 동 필터링\n",
    "filtered_dong_counts = sorted_dong_counts[sorted_dong_counts['불법주차 개수'] >= 500]\n",
    "\n",
    "# 막대 그래프 그리기\n",
    "plt.figure(figsize=(10, 6))\n",
    "plt.bar(filtered_dong_counts['동'], filtered_dong_counts['불법주차 개수'])\n",
    "plt.xlabel('Dong')\n",
    "plt.ylabel('Number of Illegal Parking')\n",
    "plt.title('Dong with 500 or More Illegal Parkings')\n",
    "\n",
    "# 그래프 출력\n",
    "plt.show()"
   ]
  },
  {
   "cell_type": "code",
   "execution_count": null,
   "metadata": {
    "colab": {
     "base_uri": "https://localhost:8080/"
    },
    "id": "5h5LKCUxno9b",
    "outputId": "5a2240db-fb70-44d0-fbb5-54bed2e9b649"
   },
   "outputs": [
    {
     "name": "stdout",
     "output_type": "stream",
     "text": [
      "           신고일  불법주차 수\n",
      "0   2022-03-10     443\n",
      "1   2022-03-17     414\n",
      "2   2022-06-07     412\n",
      "3   2022-03-15     401\n",
      "4   2022-02-15     401\n",
      "..         ...     ...\n",
      "253 2021-08-31      74\n",
      "254 2022-03-25      73\n",
      "255 2022-06-30      72\n",
      "256 2021-08-27      69\n",
      "257 2021-07-15      35\n",
      "\n",
      "[258 rows x 2 columns]\n"
     ]
    }
   ],
   "source": [
    "# 신고일 별 불법주차 수 계산\n",
    "daily_counts = df['신고일'].value_counts().reset_index()\n",
    "daily_counts.columns = ['신고일', '불법주차 수']\n",
    "\n",
    "# 결과 출력\n",
    "print(daily_counts)"
   ]
  },
  {
   "cell_type": "code",
   "execution_count": 4,
   "metadata": {
    "colab": {
     "base_uri": "https://localhost:8080/",
     "height": 235
    },
    "id": "142oQ_sapP4k",
    "outputId": "7da67f2e-ec50-49fa-dd69-9eff8a39b920"
   },
   "outputs": [
    {
     "ename": "NameError",
     "evalue": "ignored",
     "output_type": "error",
     "traceback": [
      "\u001b[0;31m---------------------------------------------------------------------------\u001b[0m",
      "\u001b[0;31mNameError\u001b[0m                                 Traceback (most recent call last)",
      "\u001b[0;32m<ipython-input-4-129c315781c7>\u001b[0m in \u001b[0;36m<cell line: 2>\u001b[0;34m()\u001b[0m\n\u001b[1;32m      1\u001b[0m \u001b[0;31m# 신고일을 날짜 형식으로 변환\u001b[0m\u001b[0;34m\u001b[0m\u001b[0;34m\u001b[0m\u001b[0m\n\u001b[0;32m----> 2\u001b[0;31m \u001b[0mdf\u001b[0m\u001b[0;34m[\u001b[0m\u001b[0;34m'신고일'\u001b[0m\u001b[0;34m]\u001b[0m \u001b[0;34m=\u001b[0m \u001b[0mpd\u001b[0m\u001b[0;34m.\u001b[0m\u001b[0mto_datetime\u001b[0m\u001b[0;34m(\u001b[0m\u001b[0mdf\u001b[0m\u001b[0;34m[\u001b[0m\u001b[0;34m'신고일'\u001b[0m\u001b[0;34m]\u001b[0m\u001b[0;34m)\u001b[0m\u001b[0;34m\u001b[0m\u001b[0;34m\u001b[0m\u001b[0m\n\u001b[0m\u001b[1;32m      3\u001b[0m \u001b[0;34m\u001b[0m\u001b[0m\n\u001b[1;32m      4\u001b[0m \u001b[0;31m# 월별로 불법주차 수 계산\u001b[0m\u001b[0;34m\u001b[0m\u001b[0;34m\u001b[0m\u001b[0m\n\u001b[1;32m      5\u001b[0m \u001b[0mmonthly_counts\u001b[0m \u001b[0;34m=\u001b[0m \u001b[0mdf\u001b[0m\u001b[0;34m.\u001b[0m\u001b[0mgroupby\u001b[0m\u001b[0;34m(\u001b[0m\u001b[0mdf\u001b[0m\u001b[0;34m[\u001b[0m\u001b[0;34m'신고일'\u001b[0m\u001b[0;34m]\u001b[0m\u001b[0;34m.\u001b[0m\u001b[0mdt\u001b[0m\u001b[0;34m.\u001b[0m\u001b[0mto_period\u001b[0m\u001b[0;34m(\u001b[0m\u001b[0;34m'M'\u001b[0m\u001b[0;34m)\u001b[0m\u001b[0;34m)\u001b[0m\u001b[0;34m.\u001b[0m\u001b[0msize\u001b[0m\u001b[0;34m(\u001b[0m\u001b[0;34m)\u001b[0m\u001b[0;34m.\u001b[0m\u001b[0mreset_index\u001b[0m\u001b[0;34m(\u001b[0m\u001b[0mname\u001b[0m\u001b[0;34m=\u001b[0m\u001b[0;34m'불법주차 수'\u001b[0m\u001b[0;34m)\u001b[0m\u001b[0;34m\u001b[0m\u001b[0;34m\u001b[0m\u001b[0m\n",
      "\u001b[0;31mNameError\u001b[0m: name 'pd' is not defined"
     ]
    }
   ],
   "source": [
    "# 신고일을 날짜 형식으로 변환\n",
    "df['신고일'] = pd.to_datetime(df['신고일'])\n",
    "\n",
    "# 월별로 불법주차 수 계산\n",
    "monthly_counts = df.groupby(df['신고일'].dt.to_period('M')).size().reset_index(name='불법주차 수')\n",
    "\n",
    "# 막대 그래프 그리기\n",
    "plt.figure(figsize=(10, 6))\n",
    "plt.bar(monthly_counts['신고일'].astype(str), monthly_counts['불법주차 수'])\n",
    "plt.xlabel('월')\n",
    "plt.ylabel('불법주차 수')\n",
    "plt.title('월별 불법주차 수')\n",
    "\n",
    "# 그래프 출력\n",
    "plt.show()\n",
    "\n",
    "# 월별 결과 출력\n",
    "print(monthly_counts)"
   ]
  },
  {
   "cell_type": "code",
   "execution_count": null,
   "metadata": {
    "colab": {
     "base_uri": "https://localhost:8080/"
    },
    "id": "DxohSfqnooq1",
    "outputId": "bd7f1e61-3bcb-462c-846c-90b0254c4d6d"
   },
   "outputs": [
    {
     "name": "stdout",
     "output_type": "stream",
     "text": [
      "서초동      35\n",
      "자양동      30\n",
      "봉천동      22\n",
      "동교동      19\n",
      "서교동      18\n",
      "         ..\n",
      "한강로3가     1\n",
      "천호동       1\n",
      "도봉동       1\n",
      "홍제동       1\n",
      "당산동2가     1\n",
      "Name: 동, Length: 110, dtype: int64\n"
     ]
    }
   ],
   "source": [
    "# 2022-03-10의 데이터 필터링\n",
    "target_date = '2022-03-10'\n",
    "filtered_df = df[df['신고일'] == target_date]\n",
    "\n",
    "# 동별 불법주차 개수 계산 및 내림차순 정렬\n",
    "result = filtered_df['동'].value_counts().sort_values(ascending=False)\n",
    "\n",
    "# 결과 출력\n",
    "print(result)"
   ]
  },
  {
   "cell_type": "code",
   "execution_count": null,
   "metadata": {
    "colab": {
     "base_uri": "https://localhost:8080/",
     "height": 1000
    },
    "id": "hFiHyCI0rZRe",
    "outputId": "f2e86f9e-51ad-4aa5-942f-ccdfa5f6d7dd"
   },
   "outputs": [
    {
     "name": "stderr",
     "output_type": "stream",
     "text": [
      "WARNING:matplotlib.font_manager:findfont: Font family 'NanumGothic' not found.\n",
      "WARNING:matplotlib.font_manager:findfont: Font family 'NanumGothic' not found.\n",
      "WARNING:matplotlib.font_manager:findfont: Font family 'NanumGothic' not found.\n",
      "WARNING:matplotlib.font_manager:findfont: Font family 'NanumGothic' not found.\n",
      "WARNING:matplotlib.font_manager:findfont: Font family 'NanumGothic' not found.\n",
      "WARNING:matplotlib.font_manager:findfont: Font family 'NanumGothic' not found.\n",
      "WARNING:matplotlib.font_manager:findfont: Font family 'NanumGothic' not found.\n",
      "WARNING:matplotlib.font_manager:findfont: Font family 'NanumGothic' not found.\n",
      "WARNING:matplotlib.font_manager:findfont: Font family 'NanumGothic' not found.\n",
      "WARNING:matplotlib.font_manager:findfont: Font family 'NanumGothic' not found.\n",
      "/usr/local/lib/python3.10/dist-packages/IPython/core/pylabtools.py:151: UserWarning: Glyph 48520 (\\N{HANGUL SYLLABLE BUL}) missing from current font.\n",
      "  fig.canvas.print_figure(bytes_io, **kw)\n",
      "/usr/local/lib/python3.10/dist-packages/IPython/core/pylabtools.py:151: UserWarning: Glyph 48277 (\\N{HANGUL SYLLABLE BEOB}) missing from current font.\n",
      "  fig.canvas.print_figure(bytes_io, **kw)\n",
      "/usr/local/lib/python3.10/dist-packages/IPython/core/pylabtools.py:151: UserWarning: Glyph 51452 (\\N{HANGUL SYLLABLE JU}) missing from current font.\n",
      "  fig.canvas.print_figure(bytes_io, **kw)\n",
      "/usr/local/lib/python3.10/dist-packages/IPython/core/pylabtools.py:151: UserWarning: Glyph 52264 (\\N{HANGUL SYLLABLE CA}) missing from current font.\n",
      "  fig.canvas.print_figure(bytes_io, **kw)\n",
      "/usr/local/lib/python3.10/dist-packages/IPython/core/pylabtools.py:151: UserWarning: Glyph 44060 (\\N{HANGUL SYLLABLE GAE}) missing from current font.\n",
      "  fig.canvas.print_figure(bytes_io, **kw)\n",
      "/usr/local/lib/python3.10/dist-packages/IPython/core/pylabtools.py:151: UserWarning: Glyph 49688 (\\N{HANGUL SYLLABLE SU}) missing from current font.\n",
      "  fig.canvas.print_figure(bytes_io, **kw)\n",
      "WARNING:matplotlib.font_manager:findfont: Font family 'NanumGothic' not found.\n",
      "WARNING:matplotlib.font_manager:findfont: Font family 'NanumGothic' not found.\n",
      "/usr/local/lib/python3.10/dist-packages/IPython/core/pylabtools.py:151: UserWarning: Glyph 44592 (\\N{HANGUL SYLLABLE GI}) missing from current font.\n",
      "  fig.canvas.print_figure(bytes_io, **kw)\n",
      "/usr/local/lib/python3.10/dist-packages/IPython/core/pylabtools.py:151: UserWarning: Glyph 51456 (\\N{HANGUL SYLLABLE JUN}) missing from current font.\n",
      "  fig.canvas.print_figure(bytes_io, **kw)\n",
      "/usr/local/lib/python3.10/dist-packages/IPython/core/pylabtools.py:151: UserWarning: Glyph 51060 (\\N{HANGUL SYLLABLE I}) missing from current font.\n",
      "  fig.canvas.print_figure(bytes_io, **kw)\n",
      "/usr/local/lib/python3.10/dist-packages/IPython/core/pylabtools.py:151: UserWarning: Glyph 49345 (\\N{HANGUL SYLLABLE SANG}) missing from current font.\n",
      "  fig.canvas.print_figure(bytes_io, **kw)\n",
      "/usr/local/lib/python3.10/dist-packages/IPython/core/pylabtools.py:151: UserWarning: Glyph 51032 (\\N{HANGUL SYLLABLE YI}) missing from current font.\n",
      "  fig.canvas.print_figure(bytes_io, **kw)\n",
      "/usr/local/lib/python3.10/dist-packages/IPython/core/pylabtools.py:151: UserWarning: Glyph 49888 (\\N{HANGUL SYLLABLE SIN}) missing from current font.\n",
      "  fig.canvas.print_figure(bytes_io, **kw)\n",
      "/usr/local/lib/python3.10/dist-packages/IPython/core/pylabtools.py:151: UserWarning: Glyph 44256 (\\N{HANGUL SYLLABLE GO}) missing from current font.\n",
      "  fig.canvas.print_figure(bytes_io, **kw)\n",
      "/usr/local/lib/python3.10/dist-packages/IPython/core/pylabtools.py:151: UserWarning: Glyph 44148 (\\N{HANGUL SYLLABLE GEON}) missing from current font.\n",
      "  fig.canvas.print_figure(bytes_io, **kw)\n",
      "WARNING:matplotlib.font_manager:findfont: Font family 'NanumGothic' not found.\n",
      "/usr/local/lib/python3.10/dist-packages/IPython/core/pylabtools.py:151: UserWarning: Glyph 49436 (\\N{HANGUL SYLLABLE SEO}) missing from current font.\n",
      "  fig.canvas.print_figure(bytes_io, **kw)\n",
      "/usr/local/lib/python3.10/dist-packages/IPython/core/pylabtools.py:151: UserWarning: Glyph 52488 (\\N{HANGUL SYLLABLE CO}) missing from current font.\n",
      "  fig.canvas.print_figure(bytes_io, **kw)\n",
      "/usr/local/lib/python3.10/dist-packages/IPython/core/pylabtools.py:151: UserWarning: Glyph 46041 (\\N{HANGUL SYLLABLE DONG}) missing from current font.\n",
      "  fig.canvas.print_figure(bytes_io, **kw)\n",
      "WARNING:matplotlib.font_manager:findfont: Font family 'NanumGothic' not found.\n",
      "/usr/local/lib/python3.10/dist-packages/IPython/core/pylabtools.py:151: UserWarning: Glyph 51088 (\\N{HANGUL SYLLABLE JA}) missing from current font.\n",
      "  fig.canvas.print_figure(bytes_io, **kw)\n",
      "/usr/local/lib/python3.10/dist-packages/IPython/core/pylabtools.py:151: UserWarning: Glyph 50577 (\\N{HANGUL SYLLABLE YANG}) missing from current font.\n",
      "  fig.canvas.print_figure(bytes_io, **kw)\n",
      "WARNING:matplotlib.font_manager:findfont: Font family 'NanumGothic' not found.\n",
      "/usr/local/lib/python3.10/dist-packages/IPython/core/pylabtools.py:151: UserWarning: Glyph 48393 (\\N{HANGUL SYLLABLE BONG}) missing from current font.\n",
      "  fig.canvas.print_figure(bytes_io, **kw)\n",
      "/usr/local/lib/python3.10/dist-packages/IPython/core/pylabtools.py:151: UserWarning: Glyph 52380 (\\N{HANGUL SYLLABLE CEON}) missing from current font.\n",
      "  fig.canvas.print_figure(bytes_io, **kw)\n",
      "WARNING:matplotlib.font_manager:findfont: Font family 'NanumGothic' not found.\n",
      "/usr/local/lib/python3.10/dist-packages/IPython/core/pylabtools.py:151: UserWarning: Glyph 44368 (\\N{HANGUL SYLLABLE GYO}) missing from current font.\n",
      "  fig.canvas.print_figure(bytes_io, **kw)\n",
      "WARNING:matplotlib.font_manager:findfont: Font family 'NanumGothic' not found.\n",
      "WARNING:matplotlib.font_manager:findfont: Font family 'NanumGothic' not found.\n",
      "/usr/local/lib/python3.10/dist-packages/IPython/core/pylabtools.py:151: UserWarning: Glyph 45824 (\\N{HANGUL SYLLABLE DAE}) missing from current font.\n",
      "  fig.canvas.print_figure(bytes_io, **kw)\n",
      "/usr/local/lib/python3.10/dist-packages/IPython/core/pylabtools.py:151: UserWarning: Glyph 52824 (\\N{HANGUL SYLLABLE CI}) missing from current font.\n",
      "  fig.canvas.print_figure(bytes_io, **kw)\n",
      "WARNING:matplotlib.font_manager:findfont: Font family 'NanumGothic' not found.\n",
      "/usr/local/lib/python3.10/dist-packages/IPython/core/pylabtools.py:151: UserWarning: Glyph 50668 (\\N{HANGUL SYLLABLE YEO}) missing from current font.\n",
      "  fig.canvas.print_figure(bytes_io, **kw)\n",
      "/usr/local/lib/python3.10/dist-packages/IPython/core/pylabtools.py:151: UserWarning: Glyph 46020 (\\N{HANGUL SYLLABLE DO}) missing from current font.\n",
      "  fig.canvas.print_figure(bytes_io, **kw)\n",
      "WARNING:matplotlib.font_manager:findfont: Font family 'NanumGothic' not found.\n",
      "/usr/local/lib/python3.10/dist-packages/IPython/core/pylabtools.py:151: UserWarning: Glyph 50669 (\\N{HANGUL SYLLABLE YEOG}) missing from current font.\n",
      "  fig.canvas.print_figure(bytes_io, **kw)\n",
      "/usr/local/lib/python3.10/dist-packages/IPython/core/pylabtools.py:151: UserWarning: Glyph 49340 (\\N{HANGUL SYLLABLE SAM}) missing from current font.\n",
      "  fig.canvas.print_figure(bytes_io, **kw)\n",
      "WARNING:matplotlib.font_manager:findfont: Font family 'NanumGothic' not found.\n",
      "/usr/local/lib/python3.10/dist-packages/IPython/core/pylabtools.py:151: UserWarning: Glyph 49457 (\\N{HANGUL SYLLABLE SEONG}) missing from current font.\n",
      "  fig.canvas.print_figure(bytes_io, **kw)\n",
      "/usr/local/lib/python3.10/dist-packages/IPython/core/pylabtools.py:151: UserWarning: Glyph 44032 (\\N{HANGUL SYLLABLE GA}) missing from current font.\n",
      "  fig.canvas.print_figure(bytes_io, **kw)\n",
      "WARNING:matplotlib.font_manager:findfont: Font family 'NanumGothic' not found.\n",
      "/usr/local/lib/python3.10/dist-packages/IPython/core/pylabtools.py:151: UserWarning: Glyph 54868 (\\N{HANGUL SYLLABLE HWA}) missing from current font.\n",
      "  fig.canvas.print_figure(bytes_io, **kw)\n",
      "WARNING:matplotlib.font_manager:findfont: Font family 'NanumGothic' not found.\n",
      "WARNING:matplotlib.font_manager:findfont: Font family 'NanumGothic' not found.\n",
      "WARNING:matplotlib.font_manager:findfont: Font family 'NanumGothic' not found.\n",
      "WARNING:matplotlib.font_manager:findfont: Font family 'NanumGothic' not found.\n",
      "WARNING:matplotlib.font_manager:findfont: Font family 'NanumGothic' not found.\n",
      "WARNING:matplotlib.font_manager:findfont: Font family 'NanumGothic' not found.\n",
      "WARNING:matplotlib.font_manager:findfont: Font family 'NanumGothic' not found.\n",
      "WARNING:matplotlib.font_manager:findfont: Font family 'NanumGothic' not found.\n",
      "WARNING:matplotlib.font_manager:findfont: Font family 'NanumGothic' not found.\n",
      "WARNING:matplotlib.font_manager:findfont: Font family 'NanumGothic' not found.\n",
      "WARNING:matplotlib.font_manager:findfont: Font family 'NanumGothic' not found.\n",
      "WARNING:matplotlib.font_manager:findfont: Font family 'NanumGothic' not found.\n",
      "WARNING:matplotlib.font_manager:findfont: Font family 'NanumGothic' not found.\n",
      "WARNING:matplotlib.font_manager:findfont: Font family 'NanumGothic' not found.\n",
      "WARNING:matplotlib.font_manager:findfont: Font family 'NanumGothic' not found.\n",
      "WARNING:matplotlib.font_manager:findfont: Font family 'NanumGothic' not found.\n",
      "WARNING:matplotlib.font_manager:findfont: Font family 'NanumGothic' not found.\n",
      "WARNING:matplotlib.font_manager:findfont: Font family 'NanumGothic' not found.\n",
      "WARNING:matplotlib.font_manager:findfont: Font family 'NanumGothic' not found.\n",
      "WARNING:matplotlib.font_manager:findfont: Font family 'NanumGothic' not found.\n",
      "WARNING:matplotlib.font_manager:findfont: Font family 'NanumGothic' not found.\n",
      "WARNING:matplotlib.font_manager:findfont: Font family 'NanumGothic' not found.\n",
      "WARNING:matplotlib.font_manager:findfont: Font family 'NanumGothic' not found.\n",
      "WARNING:matplotlib.font_manager:findfont: Font family 'NanumGothic' not found.\n",
      "WARNING:matplotlib.font_manager:findfont: Font family 'NanumGothic' not found.\n",
      "WARNING:matplotlib.font_manager:findfont: Font family 'NanumGothic' not found.\n",
      "WARNING:matplotlib.font_manager:findfont: Font family 'NanumGothic' not found.\n",
      "WARNING:matplotlib.font_manager:findfont: Font family 'NanumGothic' not found.\n",
      "WARNING:matplotlib.font_manager:findfont: Font family 'NanumGothic' not found.\n",
      "WARNING:matplotlib.font_manager:findfont: Font family 'NanumGothic' not found.\n",
      "WARNING:matplotlib.font_manager:findfont: Font family 'NanumGothic' not found.\n",
      "WARNING:matplotlib.font_manager:findfont: Font family 'NanumGothic' not found.\n",
      "WARNING:matplotlib.font_manager:findfont: Font family 'NanumGothic' not found.\n",
      "WARNING:matplotlib.font_manager:findfont: Font family 'NanumGothic' not found.\n",
      "WARNING:matplotlib.font_manager:findfont: Font family 'NanumGothic' not found.\n",
      "WARNING:matplotlib.font_manager:findfont: Font family 'NanumGothic' not found.\n",
      "WARNING:matplotlib.font_manager:findfont: Font family 'NanumGothic' not found.\n",
      "WARNING:matplotlib.font_manager:findfont: Font family 'NanumGothic' not found.\n",
      "WARNING:matplotlib.font_manager:findfont: Font family 'NanumGothic' not found.\n",
      "WARNING:matplotlib.font_manager:findfont: Font family 'NanumGothic' not found.\n",
      "WARNING:matplotlib.font_manager:findfont: Font family 'NanumGothic' not found.\n",
      "WARNING:matplotlib.font_manager:findfont: Font family 'NanumGothic' not found.\n",
      "WARNING:matplotlib.font_manager:findfont: Font family 'NanumGothic' not found.\n",
      "WARNING:matplotlib.font_manager:findfont: Font family 'NanumGothic' not found.\n",
      "WARNING:matplotlib.font_manager:findfont: Font family 'NanumGothic' not found.\n"
     ]
    },
    {
     "data": {
      "image/png": "[encoded data removed]",
      "text/plain": [
       "<Figure size 1000x600 with 1 Axes>"
      ]
     },
     "metadata": {},
     "output_type": "display_data"
    }
   ],
   "source": [
    "# 10개 이상의 신고건수 필터링\n",
    "result_filtered = result[result >= 10]\n",
    "\n",
    "# 그래프 그리기\n",
    "plt.figure(figsize=(10, 6))\n",
    "result_filtered.plot(kind='bar')\n",
    "plt.xlabel('동')\n",
    "plt.ylabel('불법주차 개수')\n",
    "plt.title('2022-03-10 기준 10개 이상의 신고건수')\n",
    "\n",
    "# 그래프 출력\n",
    "plt.show()"
   ]
  },
  {
   "cell_type": "code",
   "execution_count": null,
   "metadata": {
    "colab": {
     "base_uri": "https://localhost:8080/"
    },
    "id": "XBsWonPEsSqj",
    "outputId": "e6623aca-2e56-4b9e-e735-a92a4374e51b"
   },
   "outputs": [
    {
     "name": "stdout",
     "output_type": "stream",
     "text": [
      "자양동     31\n",
      "서초동     21\n",
      "구의동     19\n",
      "구로동     18\n",
      "봉천동     16\n",
      "        ..\n",
      "창천동      1\n",
      "남현동      1\n",
      "경운동      1\n",
      "서린동      1\n",
      "종로1가     1\n",
      "Name: 동, Length: 117, dtype: int64\n"
     ]
    }
   ],
   "source": [
    "# 2022-03-17의 데이터 필터링\n",
    "target_date = '2022-03-17'\n",
    "filtered_df = df[df['신고일'] == target_date]\n",
    "\n",
    "# 동별 불법주차 개수 계산 및 내림차순 정렬\n",
    "result = filtered_df['동'].value_counts().sort_values(ascending=False)\n",
    "\n",
    "# 결과 출력\n",
    "print(result)"
   ]
  },
  {
   "cell_type": "code",
   "execution_count": null,
   "metadata": {
    "colab": {
     "base_uri": "https://localhost:8080/"
    },
    "id": "OfaOlRqBsvuZ",
    "outputId": "84643830-807a-41b4-87ec-b2f391d899c5"
   },
   "outputs": [
    {
     "name": "stdout",
     "output_type": "stream",
     "text": [
      "서초동      29\n",
      "봉천동      28\n",
      "장안동      19\n",
      "삼성동      18\n",
      "여의도동     16\n",
      "         ..\n",
      "도봉동       1\n",
      "문래동6가     1\n",
      "현석동       1\n",
      "하계동       1\n",
      "휘경동       1\n",
      "Name: 동, Length: 106, dtype: int64\n"
     ]
    }
   ],
   "source": [
    "# 2022-06-07의 데이터 필터링\n",
    "target_date = '2022-06-07'\n",
    "filtered_df = df[df['신고일'] == target_date]\n",
    "\n",
    "# 동별 불법주차 개수 계산 및 내림차순 정렬\n",
    "result = filtered_df['동'].value_counts().sort_values(ascending=False)\n",
    "\n",
    "# 결과 출력\n",
    "print(result)"
   ]
  }
 ],
 "metadata": {
  "colab": {
   "provenance": []
  },
  "kernelspec": {
   "display_name": "Python 3",
   "language": "python",
   "name": "python3"
  },
  "language_info": {
   "codemirror_mode": {
    "name": "ipython",
    "version": 3
   },
   "file_extension": ".py",
   "mimetype": "text/x-python",
   "name": "python",
   "nbconvert_exporter": "python",
   "pygments_lexer": "ipython3",
   "version": "3.8.5"
  }
 },
 "nbformat": 4,
 "nbformat_minor": 1
}
